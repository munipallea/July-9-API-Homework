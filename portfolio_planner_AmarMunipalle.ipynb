{
 "cells": [
  {
   "cell_type": "markdown",
   "metadata": {},
   "source": [
    "# Retirement Planner\n",
    "\n",
    "---\n",
    "\n",
    "## Environment Setup"
   ]
  },
  {
   "cell_type": "code",
   "execution_count": 1,
   "metadata": {},
   "outputs": [],
   "source": [
    "# Import libraries and dependencies\n",
    "import numpy as np\n",
    "import pandas as pd\n",
    "import os\n",
    "from datetime import datetime, timedelta\n",
    "import matplotlib.pyplot as plt\n",
    "import alpaca_trade_api as tradeapi\n",
    "%matplotlib inline"
   ]
  },
  {
   "cell_type": "code",
   "execution_count": 2,
   "metadata": {},
   "outputs": [],
   "source": [
    "# Set random seed for results reproducibility\n",
    "np.random.seed(42)"
   ]
  },
  {
   "cell_type": "markdown",
   "metadata": {},
   "source": [
    "---\n",
    "\n",
    "## Portfolio Planner\n",
    "\n",
    "In this activity, you will use the Alpaca API to grab historical data for a `60/40` portfolio using `SPY` to represent the stock portion and `AGG` to represent the bonds."
   ]
  },
  {
   "cell_type": "code",
   "execution_count": 3,
   "metadata": {},
   "outputs": [],
   "source": [
    "# Load .env enviroment variables\n",
    "from dotenv import load_dotenv\n",
    "load_dotenv()\n",
    "\n",
    "# Set Alpaca API key and secret\n",
    "alpaca_api_key = os.getenv(\"ALPACA_API_KEY\")\n",
    "alpaca_secret_key = os.getenv(\"ALPACA_SECRET_KEY\")\n",
    "\n",
    "# Create Alpaca API object\n",
    "api = tradeapi.REST(\n",
    "    alpaca_api_key,\n",
    "    alpaca_secret_key,\n",
    "    api_version=\"v2\")"
   ]
  },
  {
   "cell_type": "markdown",
   "metadata": {},
   "source": [
    "# Data Collection\n",
    "\n",
    "In this step, you will need to use the Alpaca api to fetch closing prices for the `SPY` and `AGG` tickers. Save the results as a pandas DataFrame"
   ]
  },
  {
   "cell_type": "code",
   "execution_count": 4,
   "metadata": {},
   "outputs": [],
   "source": [
    "# Subset tickers and pull returns data:\n",
    "# Set ticker\n",
    "ticker = [\"SPY\", \"AGG\"]\n",
    "\n",
    "# Set timeframe to '1D'\n",
    "timeframe = \"1D\"\n",
    "\n",
    "# Set start and end datetimes of 1 year.\n",
    "start_date = pd.Timestamp('2019-01-01', tz='America/New_York').isoformat()\n",
    "end_date = pd.Timestamp('2019-12-31', tz='America/New_York').isoformat()\n",
    "\n",
    "# Get 1 year's worth of historical data for SPY and AGG\n",
    "df = api.get_barset(\n",
    "    ticker,\n",
    "    timeframe,\n",
    "    limit=None,\n",
    "    start=start_date,\n",
    "    end=end_date,\n",
    "    after=None,\n",
    "    until=None,\n",
    ").df\n",
    "\n",
    "# Drop unnecessary columns\n",
    "df = df.drop(\n",
    "    columns=['open', 'high', 'low', 'volume'],\n",
    "    level=1\n",
    ")"
   ]
  },
  {
   "cell_type": "code",
   "execution_count": 5,
   "metadata": {},
   "outputs": [
    {
     "data": {
      "text/html": [
       "<div>\n",
       "<style scoped>\n",
       "    .dataframe tbody tr th:only-of-type {\n",
       "        vertical-align: middle;\n",
       "    }\n",
       "\n",
       "    .dataframe tbody tr th {\n",
       "        vertical-align: top;\n",
       "    }\n",
       "\n",
       "    .dataframe thead tr th {\n",
       "        text-align: left;\n",
       "    }\n",
       "\n",
       "    .dataframe thead tr:last-of-type th {\n",
       "        text-align: right;\n",
       "    }\n",
       "</style>\n",
       "<table border=\"1\" class=\"dataframe\">\n",
       "  <thead>\n",
       "    <tr>\n",
       "      <th></th>\n",
       "      <th>AGG</th>\n",
       "      <th>SPY</th>\n",
       "    </tr>\n",
       "    <tr>\n",
       "      <th></th>\n",
       "      <th>close</th>\n",
       "      <th>close</th>\n",
       "    </tr>\n",
       "    <tr>\n",
       "      <th>time</th>\n",
       "      <th></th>\n",
       "      <th></th>\n",
       "    </tr>\n",
       "  </thead>\n",
       "  <tbody>\n",
       "    <tr>\n",
       "      <th>2019-12-24 00:00:00-05:00</th>\n",
       "      <td>112.375</td>\n",
       "      <td>321.26</td>\n",
       "    </tr>\n",
       "    <tr>\n",
       "      <th>2019-12-26 00:00:00-05:00</th>\n",
       "      <td>112.480</td>\n",
       "      <td>322.91</td>\n",
       "    </tr>\n",
       "    <tr>\n",
       "      <th>2019-12-27 00:00:00-05:00</th>\n",
       "      <td>112.620</td>\n",
       "      <td>322.86</td>\n",
       "    </tr>\n",
       "    <tr>\n",
       "      <th>2019-12-30 00:00:00-05:00</th>\n",
       "      <td>112.630</td>\n",
       "      <td>321.10</td>\n",
       "    </tr>\n",
       "    <tr>\n",
       "      <th>2019-12-31 00:00:00-05:00</th>\n",
       "      <td>112.370</td>\n",
       "      <td>321.92</td>\n",
       "    </tr>\n",
       "  </tbody>\n",
       "</table>\n",
       "</div>"
      ],
      "text/plain": [
       "                               AGG     SPY\n",
       "                             close   close\n",
       "time                                      \n",
       "2019-12-24 00:00:00-05:00  112.375  321.26\n",
       "2019-12-26 00:00:00-05:00  112.480  322.91\n",
       "2019-12-27 00:00:00-05:00  112.620  322.86\n",
       "2019-12-30 00:00:00-05:00  112.630  321.10\n",
       "2019-12-31 00:00:00-05:00  112.370  321.92"
      ]
     },
     "execution_count": 5,
     "metadata": {},
     "output_type": "execute_result"
    }
   ],
   "source": [
    "# Display sample data\n",
    "df.head()\n",
    "df.tail()"
   ]
  },
  {
   "cell_type": "markdown",
   "metadata": {},
   "source": [
    "---\n",
    "\n",
    "## Monte Carlo Simulation\n",
    "\n",
    "In this step, you will run Monte Carlo Simulations for your portfolio to model portfolio performance at different retirement ages. \n",
    "\n",
    "Complete the following steps:\n",
    "\n",
    "1. Calculate the daily returns for the SPY and AGG closing prices.\n",
    "\n",
    "2. Calculate volatility for both the SPY and AGG closing prices.\n",
    "\n",
    "3. Find the last day's closing price for both stocks and save those as variables\n",
    "\n",
    "4. Run a Monte Carlo Simulation of at least `100` iterations and generate at least `30` years of closing prices\n",
    "\n",
    "**Hint:** There are `252` trading days per year, so the number of records to generate for each Monte Carlo run will be `252 days * 30 years`."
   ]
  },
  {
   "cell_type": "code",
   "execution_count": 6,
   "metadata": {},
   "outputs": [
    {
     "name": "stdout",
     "output_type": "stream",
     "text": [
      "     1Yr Mean\n",
      "AGG  0.000213\n",
      "SPY  0.001040\n"
     ]
    }
   ],
   "source": [
    "# Calculate the daily roi for the stocks\n",
    "avg_return=pd.DataFrame(df.pct_change().mean())\n",
    "avg_return.index=['AGG', 'SPY']\n",
    "avg_return.columns=['1Yr Mean']\n",
    "avg_return.head()\n",
    "# Display sample data\n",
    "avg_return.loc[\"AGG\",\"1Yr Mean\"]\n",
    "avg_return.loc[\"SPY\",\"1Yr Mean\"]\n",
    "print(avg_return.head())"
   ]
  },
  {
   "cell_type": "code",
   "execution_count": 7,
   "metadata": {},
   "outputs": [
    {
     "data": {
      "text/html": [
       "<div>\n",
       "<style scoped>\n",
       "    .dataframe tbody tr th:only-of-type {\n",
       "        vertical-align: middle;\n",
       "    }\n",
       "\n",
       "    .dataframe tbody tr th {\n",
       "        vertical-align: top;\n",
       "    }\n",
       "\n",
       "    .dataframe thead th {\n",
       "        text-align: right;\n",
       "    }\n",
       "</style>\n",
       "<table border=\"1\" class=\"dataframe\">\n",
       "  <thead>\n",
       "    <tr style=\"text-align: right;\">\n",
       "      <th></th>\n",
       "      <th>1Yr Vol</th>\n",
       "    </tr>\n",
       "  </thead>\n",
       "  <tbody>\n",
       "    <tr>\n",
       "      <th>AGG</th>\n",
       "      <td>0.00209</td>\n",
       "    </tr>\n",
       "    <tr>\n",
       "      <th>SPY</th>\n",
       "      <td>0.00782</td>\n",
       "    </tr>\n",
       "  </tbody>\n",
       "</table>\n",
       "</div>"
      ],
      "text/plain": [
       "     1Yr Vol\n",
       "AGG  0.00209\n",
       "SPY  0.00782"
      ]
     },
     "execution_count": 7,
     "metadata": {},
     "output_type": "execute_result"
    }
   ],
   "source": [
    "# Compute daily volatility over a one year horizon\n",
    "OneYr_Vol=pd.DataFrame(df.pct_change().std())\n",
    "OneYr_Vol.index=['AGG', 'SPY']\n",
    "OneYr_Vol.columns=['1Yr Vol']\n",
    "OneYr_Vol.head()"
   ]
  },
  {
   "cell_type": "code",
   "execution_count": 8,
   "metadata": {},
   "outputs": [],
   "source": [
    "# Save the last day's closing price\n",
    "agg_last_closing=df[\"AGG\"][\"close\"][-1]\n",
    "spy_last_closing=df[\"SPY\"][\"close\"][-1]"
   ]
  },
  {
   "cell_type": "code",
   "execution_count": 9,
   "metadata": {},
   "outputs": [],
   "source": [
    "# Setup the Monte Carlo Parameters\n",
    "number_simulations = 500\n",
    "number_records = 252 * 30\n",
    "number_years = 30  #added parameter for number of years\n",
    "monte_carlo = pd.DataFrame()"
   ]
  },
  {
   "cell_type": "code",
   "execution_count": 10,
   "metadata": {},
   "outputs": [
    {
     "data": {
      "text/html": [
       "<div>\n",
       "<style scoped>\n",
       "    .dataframe tbody tr th:only-of-type {\n",
       "        vertical-align: middle;\n",
       "    }\n",
       "\n",
       "    .dataframe tbody tr th {\n",
       "        vertical-align: top;\n",
       "    }\n",
       "\n",
       "    .dataframe thead th {\n",
       "        text-align: right;\n",
       "    }\n",
       "</style>\n",
       "<table border=\"1\" class=\"dataframe\">\n",
       "  <thead>\n",
       "    <tr style=\"text-align: right;\">\n",
       "      <th></th>\n",
       "      <th>0</th>\n",
       "      <th>1</th>\n",
       "      <th>2</th>\n",
       "      <th>3</th>\n",
       "      <th>4</th>\n",
       "      <th>5</th>\n",
       "      <th>6</th>\n",
       "      <th>7</th>\n",
       "      <th>8</th>\n",
       "      <th>9</th>\n",
       "      <th>...</th>\n",
       "      <th>490</th>\n",
       "      <th>491</th>\n",
       "      <th>492</th>\n",
       "      <th>493</th>\n",
       "      <th>494</th>\n",
       "      <th>495</th>\n",
       "      <th>496</th>\n",
       "      <th>497</th>\n",
       "      <th>498</th>\n",
       "      <th>499</th>\n",
       "    </tr>\n",
       "  </thead>\n",
       "  <tbody>\n",
       "    <tr>\n",
       "      <th>0</th>\n",
       "      <td>1.000000</td>\n",
       "      <td>1.000000</td>\n",
       "      <td>1.000000</td>\n",
       "      <td>1.000000</td>\n",
       "      <td>1.000000</td>\n",
       "      <td>1.000000</td>\n",
       "      <td>1.000000</td>\n",
       "      <td>1.000000</td>\n",
       "      <td>1.000000</td>\n",
       "      <td>1.000000</td>\n",
       "      <td>...</td>\n",
       "      <td>1.000000</td>\n",
       "      <td>1.000000</td>\n",
       "      <td>1.000000</td>\n",
       "      <td>1.000000</td>\n",
       "      <td>1.000000</td>\n",
       "      <td>1.000000</td>\n",
       "      <td>1.000000</td>\n",
       "      <td>1.000000</td>\n",
       "      <td>1.000000</td>\n",
       "      <td>1.000000</td>\n",
       "    </tr>\n",
       "    <tr>\n",
       "      <th>1</th>\n",
       "      <td>1.000476</td>\n",
       "      <td>1.000536</td>\n",
       "      <td>0.998808</td>\n",
       "      <td>1.005394</td>\n",
       "      <td>1.011797</td>\n",
       "      <td>0.994452</td>\n",
       "      <td>0.997251</td>\n",
       "      <td>1.013277</td>\n",
       "      <td>1.000869</td>\n",
       "      <td>0.995376</td>\n",
       "      <td>...</td>\n",
       "      <td>1.002066</td>\n",
       "      <td>0.992709</td>\n",
       "      <td>1.001801</td>\n",
       "      <td>1.002671</td>\n",
       "      <td>0.996472</td>\n",
       "      <td>1.003160</td>\n",
       "      <td>1.001638</td>\n",
       "      <td>1.006800</td>\n",
       "      <td>0.998173</td>\n",
       "      <td>0.994765</td>\n",
       "    </tr>\n",
       "    <tr>\n",
       "      <th>2</th>\n",
       "      <td>1.008876</td>\n",
       "      <td>1.004699</td>\n",
       "      <td>1.003590</td>\n",
       "      <td>0.996711</td>\n",
       "      <td>1.009571</td>\n",
       "      <td>0.994247</td>\n",
       "      <td>0.994214</td>\n",
       "      <td>1.007199</td>\n",
       "      <td>1.000225</td>\n",
       "      <td>0.993036</td>\n",
       "      <td>...</td>\n",
       "      <td>1.005759</td>\n",
       "      <td>0.994517</td>\n",
       "      <td>1.003317</td>\n",
       "      <td>1.006181</td>\n",
       "      <td>0.997472</td>\n",
       "      <td>0.991774</td>\n",
       "      <td>1.002764</td>\n",
       "      <td>1.005408</td>\n",
       "      <td>0.996137</td>\n",
       "      <td>0.998871</td>\n",
       "    </tr>\n",
       "    <tr>\n",
       "      <th>3</th>\n",
       "      <td>1.008286</td>\n",
       "      <td>1.004228</td>\n",
       "      <td>1.003770</td>\n",
       "      <td>0.998232</td>\n",
       "      <td>1.007751</td>\n",
       "      <td>0.987669</td>\n",
       "      <td>0.998229</td>\n",
       "      <td>1.001361</td>\n",
       "      <td>1.000230</td>\n",
       "      <td>1.001279</td>\n",
       "      <td>...</td>\n",
       "      <td>1.006771</td>\n",
       "      <td>0.988444</td>\n",
       "      <td>1.004118</td>\n",
       "      <td>1.010565</td>\n",
       "      <td>0.993293</td>\n",
       "      <td>0.994454</td>\n",
       "      <td>1.008272</td>\n",
       "      <td>0.999144</td>\n",
       "      <td>0.998656</td>\n",
       "      <td>1.003328</td>\n",
       "    </tr>\n",
       "    <tr>\n",
       "      <th>4</th>\n",
       "      <td>1.013963</td>\n",
       "      <td>1.006575</td>\n",
       "      <td>1.008493</td>\n",
       "      <td>1.002636</td>\n",
       "      <td>1.013664</td>\n",
       "      <td>0.990972</td>\n",
       "      <td>1.003241</td>\n",
       "      <td>0.995491</td>\n",
       "      <td>1.002048</td>\n",
       "      <td>1.006036</td>\n",
       "      <td>...</td>\n",
       "      <td>1.004196</td>\n",
       "      <td>0.992123</td>\n",
       "      <td>1.004724</td>\n",
       "      <td>1.004423</td>\n",
       "      <td>0.994844</td>\n",
       "      <td>0.993782</td>\n",
       "      <td>1.005722</td>\n",
       "      <td>1.002248</td>\n",
       "      <td>0.996964</td>\n",
       "      <td>1.004095</td>\n",
       "    </tr>\n",
       "  </tbody>\n",
       "</table>\n",
       "<p>5 rows × 500 columns</p>\n",
       "</div>"
      ],
      "text/plain": [
       "        0         1         2         3         4         5         6    \\\n",
       "0  1.000000  1.000000  1.000000  1.000000  1.000000  1.000000  1.000000   \n",
       "1  1.000476  1.000536  0.998808  1.005394  1.011797  0.994452  0.997251   \n",
       "2  1.008876  1.004699  1.003590  0.996711  1.009571  0.994247  0.994214   \n",
       "3  1.008286  1.004228  1.003770  0.998232  1.007751  0.987669  0.998229   \n",
       "4  1.013963  1.006575  1.008493  1.002636  1.013664  0.990972  1.003241   \n",
       "\n",
       "        7         8         9    ...       490       491       492       493  \\\n",
       "0  1.000000  1.000000  1.000000  ...  1.000000  1.000000  1.000000  1.000000   \n",
       "1  1.013277  1.000869  0.995376  ...  1.002066  0.992709  1.001801  1.002671   \n",
       "2  1.007199  1.000225  0.993036  ...  1.005759  0.994517  1.003317  1.006181   \n",
       "3  1.001361  1.000230  1.001279  ...  1.006771  0.988444  1.004118  1.010565   \n",
       "4  0.995491  1.002048  1.006036  ...  1.004196  0.992123  1.004724  1.004423   \n",
       "\n",
       "        494       495       496       497       498       499  \n",
       "0  1.000000  1.000000  1.000000  1.000000  1.000000  1.000000  \n",
       "1  0.996472  1.003160  1.001638  1.006800  0.998173  0.994765  \n",
       "2  0.997472  0.991774  1.002764  1.005408  0.996137  0.998871  \n",
       "3  0.993293  0.994454  1.008272  0.999144  0.998656  1.003328  \n",
       "4  0.994844  0.993782  1.005722  1.002248  0.996964  1.004095  \n",
       "\n",
       "[5 rows x 500 columns]"
      ]
     },
     "execution_count": 10,
     "metadata": {},
     "output_type": "execute_result"
    }
   ],
   "source": [
    "# Run the Monte Carlo Simulation\n",
    "\n",
    "\n",
    "# Initialized empty DataFrame to hold simulated prices for each simulation\n",
    "WRate=0.04\n",
    "portfolio_cumulative_returns = pd.DataFrame()\n",
    "portfolio_cumulative_returns_with_withdrawal=pd.DataFrame()\n",
    "portfolio_daily_returns_withdrawal=pd.DataFrame()\n",
    "\n",
    "# Ran simulation of projecting stock prices for the next trading year, `1000` times\n",
    "for n in range(number_simulations):\n",
    "\n",
    "    # Initialize the simulated prices list with the last closing price of `TSLA` and `SPHD`\n",
    "    simulated_agg_prices = [agg_last_closing]\n",
    "    simulated_spy_prices = [spy_last_closing]\n",
    "    \n",
    "    # Simulate returns for 252 * 30 days\n",
    "    for i in range(number_records):\n",
    "        \n",
    "        # Calculate the simulated price using the last price within the list\n",
    "        simulated_agg_price = simulated_agg_prices[-1] * (1 + np.random.normal(avg_return.loc[\"AGG\",\"1Yr Mean\"], OneYr_Vol.loc[\"AGG\",\"1Yr Vol\"]))\n",
    "        simulated_spy_price = simulated_spy_prices[-1] * (1 + np.random.normal(avg_return.loc[\"SPY\",\"1Yr Mean\"], OneYr_Vol.loc[\"SPY\",\"1Yr Vol\"]))\n",
    "        \n",
    "        # Append the simulated price to the list\n",
    "        simulated_agg_prices.append(simulated_agg_price)\n",
    "        simulated_spy_prices.append(simulated_spy_price)\n",
    "    \n",
    "    # Append the simulated prices of each simulation to DataFrame\n",
    "    monte_carlo[\"AGG prices\"] = pd.Series(simulated_agg_prices)\n",
    "    monte_carlo[\"SPY prices\"] = pd.Series(simulated_spy_prices)\n",
    "    \n",
    "    # Calculate the daily returns of simulated prices\n",
    "    simulated_daily_returns = monte_carlo.pct_change()\n",
    "    \n",
    "    # Set the portfolio weights (60/40 portfolio SPY and AGG)\n",
    "    weights = [0.4, 0.6]\n",
    "\n",
    "    # Use the `dot` function with the weights to multiply weights with each column's simulated daily returns. Some extra code on withdrawal is included which speaks to previous question\n",
    "  \n",
    "    portfolio_daily_returns = simulated_daily_returns.dot(weights)\n",
    "    portfolio_daily_returns_withdrawal=simulated_daily_returns.dot(weights)\n",
    "    for withdrawal in range(number_years):\n",
    "        portfolio_daily_returns_withdrawal.iloc[(withdrawal+1)*252] = portfolio_daily_returns_withdrawal.iloc[(withdrawal+1)*252]-WRate\n",
    "    # Calculate the normalized, cumulative return series\n",
    "    portfolio_cumulative_returns[n] = (1 + portfolio_daily_returns.fillna(0)).cumprod()\n",
    "    portfolio_cumulative_returns_with_withdrawal[n] = (1 + portfolio_daily_returns_withdrawal.fillna(0)).cumprod()\n",
    "\n",
    "# Print records from the DataFrame\n",
    "portfolio_cumulative_returns.head()\n",
    "#portfolio_cumulative_returns_with_withdrawal.head()\n",
    "#portfolio_daily_returns.head()"
   ]
  },
  {
   "cell_type": "code",
   "execution_count": 11,
   "metadata": {},
   "outputs": [
    {
     "data": {
      "text/plain": [
       "199.08385717168744"
      ]
     },
     "execution_count": 11,
     "metadata": {},
     "output_type": "execute_result"
    }
   ],
   "source": [
    "monte_carlo.tail()\n",
    "portfolio_cumulative_returns.iloc[-1,:].mean()\n",
    "portfolio_cumulative_returns.iloc[-1,:].median()"
   ]
  },
  {
   "cell_type": "code",
   "execution_count": 12,
   "metadata": {},
   "outputs": [
    {
     "name": "stdout",
     "output_type": "stream",
     "text": [
      "Monte Carlo Estimates Mean and Median: 199.08, 213.93\n",
      "Base Estimates 1Yr Mean    211.62511\n",
      "dtype: float64\n"
     ]
    }
   ],
   "source": [
    "# Check that the simulation ran successfully\n",
    "print(f\"Monte Carlo Estimates Mean and Median: {round(portfolio_cumulative_returns.iloc[-1,:].median(),2)}, {round(portfolio_cumulative_returns.iloc[-1,:].mean(),2)}\")\n",
    "print(f\"Base Estimates {(1+avg_return.T.dot(weights))**number_records-1}\")\n",
    "# The code above compares the mean and median of the Cumulative Returns Monte Carlo distribution with a base case i.e. 1 day mean AGG and SPY return compounded over 252*30 trading days\n"
   ]
  },
  {
   "cell_type": "code",
   "execution_count": 13,
   "metadata": {},
   "outputs": [
    {
     "data": {
      "text/plain": [
       "<matplotlib.axes._subplots.AxesSubplot at 0x253031ee0c8>"
      ]
     },
     "execution_count": 13,
     "metadata": {},
     "output_type": "execute_result"
    },
    {
     "data": {
      "image/png": "[encoded data removed]",
      "text/plain": [
       "<Figure size 432x288 with 1 Axes>"
      ]
     },
     "metadata": {
      "needs_background": "light"
     },
     "output_type": "display_data"
    }
   ],
   "source": [
    "# Visualize the Simulation\n",
    "plot_title = f\"{n+1} Simulations of Cumulative Portfolio Return Trajectories Over the Next 252*30 Trading Days\"\n",
    "portfolio_cumulative_returns.plot(legend=None,title=plot_title)\n",
    "#plt.legend()"
   ]
  },
  {
   "cell_type": "code",
   "execution_count": 14,
   "metadata": {},
   "outputs": [
    {
     "name": "stdout",
     "output_type": "stream",
     "text": [
      "count    500.000000\n",
      "mean     213.934520\n",
      "std       87.478242\n",
      "min       51.574092\n",
      "25%      152.963137\n",
      "50%      199.083857\n",
      "75%      261.353269\n",
      "max      804.011725\n",
      "Name: 7560, dtype: float64\n"
     ]
    },
    {
     "data": {
      "text/plain": [
       "<matplotlib.legend.Legend at 0x25305dbcec8>"
      ]
     },
     "execution_count": 14,
     "metadata": {},
     "output_type": "execute_result"
    },
    {
     "data": {
      "image/png": "[encoded data removed]",
      "text/plain": [
       "<Figure size 432x288 with 1 Axes>"
      ]
     },
     "metadata": {
      "needs_background": "light"
     },
     "output_type": "display_data"
    }
   ],
   "source": [
    "# Select the last row for the cumulative returns (cumulative returns at 30 years)\n",
    "print(portfolio_cumulative_returns.iloc[-1,:].describe())\n",
    "portfolio_cumulative_returns.iloc[-1,:].plot(kind=\"hist\",label='Cum. Returns. No Withdrawal',bins=10)\n",
    "portfolio_cumulative_returns_with_withdrawal.iloc[-1,:].plot(kind=\"hist\",label='Annual 4% Withdrawal',bins=10)\n",
    "plt.title(\"Comparison of Cumulative Returns. Without and with withdrawals\", fontdict=None, loc='center', pad=None)\n",
    "plt.legend()"
   ]
  },
  {
   "cell_type": "code",
   "execution_count": 15,
   "metadata": {},
   "outputs": [
    {
     "data": {
      "text/plain": [
       "(126.818, 202.062]               0.382\n",
       "(202.062, 277.305]               0.264\n",
       "(277.305, 352.549]               0.152\n",
       "(50.821000000000005, 126.818]    0.136\n",
       "(352.549, 427.793]               0.042\n",
       "(427.793, 503.037]               0.020\n",
       "(728.768, 804.012]               0.002\n",
       "(503.037, 578.28]                0.002\n",
       "(653.524, 728.768]               0.000\n",
       "(578.28, 653.524]                0.000\n",
       "Name: 7560, dtype: float64"
      ]
     },
     "execution_count": 15,
     "metadata": {},
     "output_type": "execute_result"
    }
   ],
   "source": [
    "portfolio_cumulative_returns.iloc[-1,:].value_counts(bins=10) / len(portfolio_cumulative_returns.iloc[-1,:])\n",
    "#portfolio_cumulative_returns_with_withdrawal.iloc[-1,:].value_counts(bins=10) / len(portfolio_cumulative_returns.iloc[-1,:])"
   ]
  },
  {
   "cell_type": "code",
   "execution_count": 16,
   "metadata": {},
   "outputs": [
    {
     "data": {
      "text/plain": [
       "(151.899, 202.062]               135\n",
       "(101.737, 151.899]               101\n",
       "(202.062, 252.224]                99\n",
       "(252.224, 302.387]                79\n",
       "(302.387, 352.549]                30\n",
       "(50.821000000000005, 101.737]     23\n",
       "(402.712, 452.874]                13\n",
       "(352.549, 402.712]                13\n",
       "(452.874, 503.037]                 5\n",
       "(753.849, 804.012]                 1\n",
       "(553.199, 603.362]                 1\n",
       "(703.687, 753.849]                 0\n",
       "(653.524, 703.687]                 0\n",
       "(603.362, 653.524]                 0\n",
       "(503.037, 553.199]                 0\n",
       "Name: 7560, dtype: int64"
      ]
     },
     "execution_count": 16,
     "metadata": {},
     "output_type": "execute_result"
    }
   ],
   "source": [
    "#Frequency distribution of portflio cumulative returns\n",
    "portfolio_cumulative_returns.iloc[-1,:].value_counts(bins=15) "
   ]
  },
  {
   "cell_type": "code",
   "execution_count": 17,
   "metadata": {},
   "outputs": [
    {
     "name": "stdout",
     "output_type": "stream",
     "text": [
      "90th %ile is 320.56\n"
     ]
    }
   ],
   "source": [
    "# Select the last row for the cumulative returns (cumulative returns at 30 years)\n",
    "portfolio_cumulative_returns.iloc[-1,:] # return at 30 years\n",
    "print(f\"90th %ile is {portfolio_cumulative_returns.iloc[-1,:].quantile(q=0.9):,.2f}\")"
   ]
  },
  {
   "cell_type": "code",
   "execution_count": 18,
   "metadata": {},
   "outputs": [
    {
     "data": {
      "text/plain": [
       "<matplotlib.lines.Line2D at 0x25305e1bd88>"
      ]
     },
     "execution_count": 18,
     "metadata": {},
     "output_type": "execute_result"
    },
    {
     "data": {
      "image/png": "[encoded data removed]",
      "text/plain": [
       "<Figure size 432x288 with 1 Axes>"
      ]
     },
     "metadata": {
      "needs_background": "light"
     },
     "output_type": "display_data"
    }
   ],
   "source": [
    "# Display the 90% confidence interval for the ending returns (red line)\n",
    "ending_cumulative_returns=portfolio_cumulative_returns.iloc[-1,:]\n",
    "confidence_interval_30 = ending_cumulative_returns.quantile(q=[0.05, 0.95])\n",
    "ending_cumulative_returns.plot(kind='hist', bins=10)\n",
    "plt.axvline(confidence_interval_30.iloc[0], color='r')\n",
    "plt.axvline(confidence_interval_30.iloc[1], color='r')"
   ]
  },
  {
   "cell_type": "code",
   "execution_count": 19,
   "metadata": {},
   "outputs": [
    {
     "data": {
      "text/plain": [
       "<matplotlib.axes._subplots.AxesSubplot at 0x25305ed6888>"
      ]
     },
     "execution_count": 19,
     "metadata": {},
     "output_type": "execute_result"
    },
    {
     "data": {
      "image/png": "[encoded data removed]",
      "text/plain": [
       "<Figure size 432x288 with 1 Axes>"
      ]
     },
     "metadata": {
      "needs_background": "light"
     },
     "output_type": "display_data"
    }
   ],
   "source": [
    "# Visualize the distribution of the ending returns\n",
    "ending_cumulative_returns.plot(kind=\"hist\",legend=None, title=\"Returns at end of simulation\")\n",
    "ending_cumulative_returns.plot(kind=\"kde\",legend=None, title=\"Returns at end of simulation\")"
   ]
  },
  {
   "cell_type": "code",
   "execution_count": 20,
   "metadata": {},
   "outputs": [
    {
     "data": {
      "text/plain": [
       "<matplotlib.axes._subplots.AxesSubplot at 0x2531694d608>"
      ]
     },
     "execution_count": 20,
     "metadata": {},
     "output_type": "execute_result"
    },
    {
     "data": {
      "image/png": "[encoded data removed]",
      "text/plain": [
       "<Figure size 432x288 with 1 Axes>"
      ]
     },
     "metadata": {
      "needs_background": "light"
     },
     "output_type": "display_data"
    }
   ],
   "source": [
    "#Helps visualize relative distributions of AGG and SPY to confirm MC estimates\n",
    "monte_carlo[\"SPY prices\"].pct_change().plot(kind=\"hist\") #confirms daily distribution of prices for a single sample\n",
    "monte_carlo[\"AGG prices\"].pct_change().plot(kind=\"hist\") #confirms daily distribution of prices for a single sample"
   ]
  },
  {
   "cell_type": "markdown",
   "metadata": {},
   "source": [
    "---"
   ]
  },
  {
   "cell_type": "markdown",
   "metadata": {},
   "source": [
    "## Retirement Analysis\n",
    "\n",
    "In this section, you will use the monte carlo model to answer the following retirement planning questions:\n",
    "\n",
    "1. What are the expected cumulative returns at `30` years for the `10th`, `50th`, and `90th` percentiles?\n",
    "\n",
    "2. Given an initial investment of `$20,000`, what is the expected return in dollars at the `10th`, `50th`, and `90th` percentiles?\n",
    "\n",
    "3. Given the current projected annual income from the Plaid analysis, will a `4%` withdrawal rate meet or exceed that value at the `10th` percentile? Note: This is basically determining if retirement income is equivalent to current income.\n",
    "\n",
    "4. How would a `50%` increase in the initial investment amount affect the `4%` retirement withdrawal? In other words, what happens if the initial investment had been bigger?"
   ]
  },
  {
   "cell_type": "markdown",
   "metadata": {},
   "source": [
    "### What are the expected cumulative returns at 30 years for the 10th, 50th, and 90th percentiles?"
   ]
  },
  {
   "cell_type": "code",
   "execution_count": 21,
   "metadata": {},
   "outputs": [
    {
     "data": {
      "text/plain": [
       "[Text(0, 0, '10th'), Text(0, 0, '50th'), Text(0, 0, '95th')]"
      ]
     },
     "execution_count": 21,
     "metadata": {},
     "output_type": "execute_result"
    },
    {
     "data": {
      "image/png": "[encoded data removed]",
      "text/plain": [
       "<Figure size 432x288 with 1 Axes>"
      ]
     },
     "metadata": {
      "needs_background": "light"
     },
     "output_type": "display_data"
    }
   ],
   "source": [
    "# Compute cumulative returns\n",
    "from matplotlib.ticker import FuncFormatter\n",
    "import matplotlib.ticker as mtick\n",
    "ax=ending_cumulative_returns.quantile(q=[.1,.5,.9]).plot(kind=\"bar\")\n",
    "#ax.xaxis.set_major_formatter(mtick.PercentFormatter(1.0))\n",
    "ax.set(xlabel=\"Percentiles\", ylabel=\"Aggregate Return\")\n",
    "ax.set_xticklabels(['10th','50th','95th'])"
   ]
  },
  {
   "cell_type": "markdown",
   "metadata": {},
   "source": [
    "### Given an initial investment of `$20,000`, what is the expected portfolio return in dollars at the 10th, 50th, and 90th percentiles?"
   ]
  },
  {
   "cell_type": "code",
   "execution_count": 22,
   "metadata": {},
   "outputs": [
    {
     "data": {
      "text/plain": [
       "[('10th %ile', 2380550.0), ('50th %ile', 3981677.0), ('95th %ile', 6411231.0)]"
      ]
     },
     "execution_count": 22,
     "metadata": {},
     "output_type": "execute_result"
    }
   ],
   "source": [
    "# Set initial investment\n",
    "initial_investment=20000\n",
    "# Compute expected portfolio return\n",
    "portfolio_return_dollars=ending_cumulative_returns.quantile(q=[.1,.5,.9])*initial_investment\n",
    "output=zip(['10th %ile','50th %ile','95th %ile'],round(portfolio_return_dollars,0))\n",
    "list(output)\n"
   ]
  },
  {
   "cell_type": "markdown",
   "metadata": {},
   "source": [
    "### Given the current projected annual income from the Plaid analysis, will a 4% withdraw rate from the retirement portfolio meet or exceed that value at the 10th percentile?\n",
    "\n",
    "Note: This is effectively saying that 90% of the expected returns will be greater than the return at the 10th percentile, so this can help measure the uncertainty about having enough funds at retirement"
   ]
  },
  {
   "cell_type": "code",
   "execution_count": 23,
   "metadata": {},
   "outputs": [
    {
     "data": {
      "image/png": "[encoded data removed]",
      "text/plain": [
       "<Figure size 1080x360 with 3 Axes>"
      ]
     },
     "metadata": {
      "needs_background": "light"
     },
     "output_type": "display_data"
    }
   ],
   "source": [
    "# Set Plaid's projected income\n",
    "## Module to calculate retirement income assuming a 4% withdrawal is made at the last trading day of each year starting Yr 1\n",
    "## Permits visualization of a breakeven rate when the portfolio comes close to meeting Yield Requirements shown in graphs below\n",
    "import matplotlib.pyplot as plt\n",
    "projected_yearly_income=6085\n",
    "YearlyIncome=[projected_yearly_income]*31\n",
    "projected_yearly_income_before_tax=7389\n",
    "WithdrawalRate=0.04\n",
    "PortValue=[]\n",
    "MarketValue=[]\n",
    "# Calculate the 4% withdrawal for the ending return as retirement income\n",
    "for years in range(number_years):\n",
    "    testlist=portfolio_cumulative_returns_with_withdrawal.iloc[(years+1)*252,:].quantile(q=[.1])*initial_investment*WRate/(1-WRate)\n",
    "    testlist1=portfolio_cumulative_returns_with_withdrawal.iloc[(years+1)*252,:].quantile(q=[.1])*initial_investment\n",
    "    PortValue.append(testlist.values)\n",
    "    MarketValue.append(testlist1.values)\n",
    "    #WithdrawalDollars[years+1][0]=testlist.values\n",
    "#print(WithdrawalDollars)\n",
    "\n",
    "DFIndex=list(range(1,number_years+1))\n",
    "\n",
    "WithdrawalDollars=pd.DataFrame(data=PortValue,index=DFIndex,columns=['Max. Withdrawal at 4% of PV'])\n",
    "WithdrawalDollars.index.name=\"Year End\"\n",
    "WithdrawalDollars['Portfolio Value']=MarketValue\n",
    "WithdrawalDollars['Portfolio Value']=WithdrawalDollars['Portfolio Value'].astype(float)\n",
    "WithdrawalDollars['50% higher Initial Inv']=WithdrawalDollars['Portfolio Value']*1.5\n",
    "\n",
    "fig = plt.figure(figsize=(15,5))\n",
    "fig.tight_layout(pad=6.0)\n",
    "plt.subplot(1, 3, 1)\n",
    "ax1=WithdrawalDollars['Max. Withdrawal at 4% of PV'].plot(kind=\"line\",title=\"10%ile Withdrawal\",marker='o', markerfacecolor='blue', markersize=6, color='skyblue', linewidth=4)\n",
    "ax1.plot(YearlyIncome,marker='', color='olive', linewidth=2, linestyle='dashed', label=\"Annual Income Requirement\")\n",
    "plt.legend()\n",
    "plt.subplot(1, 3, 2)\n",
    "ax2=WithdrawalDollars['Portfolio Value'].plot(kind=\"line\",title=\"10%ile PV\",marker='o', markerfacecolor='blue', markersize=6, color='skyblue', linewidth=4)\n",
    "ax2.plot([initial_investment]*31,marker='', color='olive', linewidth=2, linestyle='dashed', label=\"Initial Investment ($20k)\")\n",
    "ax2.plot([projected_yearly_income/WithdrawalRate]*31,marker='', color='red', linewidth=4, linestyle='dashed', label=\"Breakeven (to meet 4%)\")\n",
    "plt.legend()\n",
    "plt.subplot(1, 3, 3)\n",
    "ax2=WithdrawalDollars['50% higher Initial Inv'].plot(kind=\"line\",title=\"10%ile PV. Higher Initial Investment\",marker='o', markerfacecolor='blue', markersize=6, color='skyblue', linewidth=4)\n",
    "ax2.plot([initial_investment*1.5]*31,marker='', color='olive', linewidth=2, linestyle='dashed', label=\"Initial Investment ($30k)\")\n",
    "ax2.plot([projected_yearly_income/WithdrawalRate]*31,marker='', color='red', linewidth=4, linestyle='dashed', label=\"Breakeven (to meet 4%)\")\n",
    "plt.legend()\n",
    "plt.savefig(\"Withdrawal Options.png\")"
   ]
  },
  {
   "cell_type": "markdown",
   "metadata": {},
   "source": [
    "## Explanation of solution\n",
    "Logic:\n",
    "A withdrawal of 4% is made on the last trading day of the first year onwards (as interpreted from the original problem) i.e.Day 252, Day 504 upto Day 7560 i.e. 30 Yrs.\n",
    "The graph on left compares 4% withdrawal to the income requirement from Plaid\n",
    "As can be seen only between Yr 15 and 20 does 4% of portfolio value (@10%ile) equal income requirement; stated differently prior to this a 4% annual withdrawal will not meet retirement needs based on initial investment of $20k and asset mix.\n",
    "The graph in the middle presents the raw portfolio value. To sustain 4% withdrawal of $6k, the portflio size should atleast be ~ $150k atleast. This cutoff is also shown in middle graph.\n",
    "The graph on right uses an intial investment of $Thirty Thousand. This moves intersection to left(blue and dashed red lines), portfolio still needs ~15 years to sustain the ~$6000 withdrawal."
   ]
  },
  {
   "cell_type": "code",
   "execution_count": 24,
   "metadata": {},
   "outputs": [
    {
     "name": "stdout",
     "output_type": "stream",
     "text": [
      "MC at 10%ile is $ 877.58\n",
      "Your withdrawal Requirement is $6,085.00\n",
      "Increase initial investment or change asset mix\n"
     ]
    }
   ],
   "source": [
    "# Solution per revised problem posted on README\n",
    "OneYearPortfolioValue=portfolio_cumulative_returns.iloc[252,:].quantile(q=[.1])*initial_investment\n",
    "WithDollar_20k=float(OneYearPortfolioValue.values*WRate)\n",
    "print(f\"MC at 10%ile is $ {WithDollar_20k:,.2f}\")\n",
    "print(f\"Your withdrawal Requirement is ${projected_yearly_income:,.2f}\")\n",
    "if WithDollar_20k>projected_yearly_income:\n",
    "      print(\"Success: Asset Mix and Investent Sufficient\")\n",
    "else:\n",
    "      print(\"Increase initial investment or change asset mix\")\n"
   ]
  },
  {
   "cell_type": "markdown",
   "metadata": {},
   "source": [
    "### How would a 50% increase in the initial investment amount affect the 4% retirement withdrawal?"
   ]
  },
  {
   "cell_type": "code",
   "execution_count": 25,
   "metadata": {},
   "outputs": [
    {
     "name": "stdout",
     "output_type": "stream",
     "text": [
      "MC at 10%ile is $ 1,316.36\n",
      "Your withdrawal Requirement is $6,085.00\n",
      "Increase initial investment or change asset mix\n",
      "Does not meet your retirement needs\n"
     ]
    }
   ],
   "source": [
    "# Re-calculate the retirement income with a 50% increase in the initial investment amount\n",
    "# Solution per revised problem posted on README\n",
    "OneYearPortfolioValue=portfolio_cumulative_returns.iloc[252,:].quantile(q=[.1])*initial_investment\n",
    "WithDollar_30k=float(OneYearPortfolioValue.values*WRate*1.5)\n",
    "print(f\"MC at 10%ile is $ {WithDollar_30k:,.2f}\")\n",
    "print(f\"Your withdrawal Requirement is ${projected_yearly_income:,.2f}\")\n",
    "if WithDollar_30k>projected_yearly_income:\n",
    "      print(\"Success: Asset Mix and Investent Sufficient\")\n",
    "else:\n",
    "      print(\"Increase initial investment or change asset mix\")\n",
    "      print(\"Does not meet your retirement needs\")"
   ]
  },
  {
   "cell_type": "markdown",
   "metadata": {},
   "source": [
    "### Optional Challenge\n",
    "\n",
    "Use the Monte Carlo data and calculate the cumulative returns at the `5%`, `50%`, and `95%` quartiles and plot this data as a line chart to see how the cumulative returns change over the life of the investment.\n",
    "\n",
    "In this section, you need to calculate and plot the cumulative returns for the median and `90%` confidence intervals. This plot shows the expected cumulative returns for any given day between the first day and the last day of investment. "
   ]
  },
  {
   "cell_type": "code",
   "execution_count": 26,
   "metadata": {},
   "outputs": [
    {
     "data": {
      "text/html": [
       "<div>\n",
       "<style scoped>\n",
       "    .dataframe tbody tr th:only-of-type {\n",
       "        vertical-align: middle;\n",
       "    }\n",
       "\n",
       "    .dataframe tbody tr th {\n",
       "        vertical-align: top;\n",
       "    }\n",
       "\n",
       "    .dataframe thead th {\n",
       "        text-align: right;\n",
       "    }\n",
       "</style>\n",
       "<table border=\"1\" class=\"dataframe\">\n",
       "  <thead>\n",
       "    <tr style=\"text-align: right;\">\n",
       "      <th></th>\n",
       "      <th>0</th>\n",
       "      <th>1</th>\n",
       "      <th>2</th>\n",
       "      <th>3</th>\n",
       "      <th>4</th>\n",
       "      <th>5</th>\n",
       "      <th>6</th>\n",
       "      <th>7</th>\n",
       "      <th>8</th>\n",
       "      <th>9</th>\n",
       "      <th>...</th>\n",
       "      <th>7551</th>\n",
       "      <th>7552</th>\n",
       "      <th>7553</th>\n",
       "      <th>7554</th>\n",
       "      <th>7555</th>\n",
       "      <th>7556</th>\n",
       "      <th>7557</th>\n",
       "      <th>7558</th>\n",
       "      <th>7559</th>\n",
       "      <th>7560</th>\n",
       "    </tr>\n",
       "  </thead>\n",
       "  <tbody>\n",
       "    <tr>\n",
       "      <th>0.05</th>\n",
       "      <td>20000.0</td>\n",
       "      <td>19853.811113</td>\n",
       "      <td>19808.750045</td>\n",
       "      <td>19787.659380</td>\n",
       "      <td>19764.821308</td>\n",
       "      <td>19710.150941</td>\n",
       "      <td>19701.436270</td>\n",
       "      <td>19691.415602</td>\n",
       "      <td>19683.957376</td>\n",
       "      <td>19632.512001</td>\n",
       "      <td>...</td>\n",
       "      <td>2.065004e+06</td>\n",
       "      <td>2.056413e+06</td>\n",
       "      <td>2.059181e+06</td>\n",
       "      <td>2.061957e+06</td>\n",
       "      <td>2.068354e+06</td>\n",
       "      <td>2.072924e+06</td>\n",
       "      <td>2.060979e+06</td>\n",
       "      <td>2.062480e+06</td>\n",
       "      <td>2.057766e+06</td>\n",
       "      <td>2.056512e+06</td>\n",
       "    </tr>\n",
       "    <tr>\n",
       "      <th>0.50</th>\n",
       "      <td>20000.0</td>\n",
       "      <td>20015.691198</td>\n",
       "      <td>20025.743648</td>\n",
       "      <td>20046.561490</td>\n",
       "      <td>20059.444964</td>\n",
       "      <td>20075.595936</td>\n",
       "      <td>20094.545143</td>\n",
       "      <td>20108.482143</td>\n",
       "      <td>20111.820648</td>\n",
       "      <td>20142.990577</td>\n",
       "      <td>...</td>\n",
       "      <td>3.921931e+06</td>\n",
       "      <td>3.930553e+06</td>\n",
       "      <td>3.938887e+06</td>\n",
       "      <td>3.935087e+06</td>\n",
       "      <td>3.950591e+06</td>\n",
       "      <td>3.960921e+06</td>\n",
       "      <td>3.971434e+06</td>\n",
       "      <td>3.971648e+06</td>\n",
       "      <td>3.988083e+06</td>\n",
       "      <td>3.981677e+06</td>\n",
       "    </tr>\n",
       "    <tr>\n",
       "      <th>0.95</th>\n",
       "      <td>20000.0</td>\n",
       "      <td>20171.457229</td>\n",
       "      <td>20265.768514</td>\n",
       "      <td>20314.543378</td>\n",
       "      <td>20366.172768</td>\n",
       "      <td>20434.511818</td>\n",
       "      <td>20466.494457</td>\n",
       "      <td>20508.738736</td>\n",
       "      <td>20543.910724</td>\n",
       "      <td>20590.030705</td>\n",
       "      <td>...</td>\n",
       "      <td>7.556621e+06</td>\n",
       "      <td>7.613399e+06</td>\n",
       "      <td>7.643444e+06</td>\n",
       "      <td>7.641493e+06</td>\n",
       "      <td>7.632592e+06</td>\n",
       "      <td>7.642515e+06</td>\n",
       "      <td>7.624367e+06</td>\n",
       "      <td>7.604815e+06</td>\n",
       "      <td>7.598804e+06</td>\n",
       "      <td>7.586836e+06</td>\n",
       "    </tr>\n",
       "  </tbody>\n",
       "</table>\n",
       "<p>3 rows × 7561 columns</p>\n",
       "</div>"
      ],
      "text/plain": [
       "         0             1             2             3             4     \\\n",
       "0.05  20000.0  19853.811113  19808.750045  19787.659380  19764.821308   \n",
       "0.50  20000.0  20015.691198  20025.743648  20046.561490  20059.444964   \n",
       "0.95  20000.0  20171.457229  20265.768514  20314.543378  20366.172768   \n",
       "\n",
       "              5             6             7             8             9     \\\n",
       "0.05  19710.150941  19701.436270  19691.415602  19683.957376  19632.512001   \n",
       "0.50  20075.595936  20094.545143  20108.482143  20111.820648  20142.990577   \n",
       "0.95  20434.511818  20466.494457  20508.738736  20543.910724  20590.030705   \n",
       "\n",
       "      ...          7551          7552          7553          7554  \\\n",
       "0.05  ...  2.065004e+06  2.056413e+06  2.059181e+06  2.061957e+06   \n",
       "0.50  ...  3.921931e+06  3.930553e+06  3.938887e+06  3.935087e+06   \n",
       "0.95  ...  7.556621e+06  7.613399e+06  7.643444e+06  7.641493e+06   \n",
       "\n",
       "              7555          7556          7557          7558          7559  \\\n",
       "0.05  2.068354e+06  2.072924e+06  2.060979e+06  2.062480e+06  2.057766e+06   \n",
       "0.50  3.950591e+06  3.960921e+06  3.971434e+06  3.971648e+06  3.988083e+06   \n",
       "0.95  7.632592e+06  7.642515e+06  7.624367e+06  7.604815e+06  7.598804e+06   \n",
       "\n",
       "              7560  \n",
       "0.05  2.056512e+06  \n",
       "0.50  3.981677e+06  \n",
       "0.95  7.586836e+06  \n",
       "\n",
       "[3 rows x 7561 columns]"
      ]
     },
     "execution_count": 26,
     "metadata": {},
     "output_type": "execute_result"
    }
   ],
   "source": [
    "# Compute projected returns and sample data\n",
    "NewReturns=portfolio_cumulative_returns.T.quantile([.05, .5, 0.95])*initial_investment\n",
    "\n",
    "NewReturns.head()\n",
    "\n"
   ]
  },
  {
   "cell_type": "code",
   "execution_count": 27,
   "metadata": {},
   "outputs": [
    {
     "data": {
      "text/plain": [
       "<matplotlib.axes._subplots.AxesSubplot at 0x25317352e08>"
      ]
     },
     "execution_count": 27,
     "metadata": {},
     "output_type": "execute_result"
    },
    {
     "data": {
      "image/png": "[encoded data removed]",
      "text/plain": [
       "<Figure size 432x288 with 1 Axes>"
      ]
     },
     "metadata": {
      "needs_background": "light"
     },
     "output_type": "display_data"
    }
   ],
   "source": [
    "# Cumulative returns over time\n",
    "NewReturns.T.plot()"
   ]
  },
  {
   "cell_type": "code",
   "execution_count": 28,
   "metadata": {},
   "outputs": [
    {
     "data": {
      "text/plain": [
       "<matplotlib.axes._subplots.AxesSubplot at 0x253172c7388>"
      ]
     },
     "execution_count": 28,
     "metadata": {},
     "output_type": "execute_result"
    },
    {
     "data": {
      "image/png": "[encoded data removed]",
      "text/plain": [
       "<Figure size 432x288 with 1 Axes>"
      ]
     },
     "metadata": {
      "needs_background": "light"
     },
     "output_type": "display_data"
    }
   ],
   "source": [
    "# Compute portfolio performance over time\n",
    "portfolio_perfomance_time=portfolio_cumulative_returns.T.quantile([.05, .5, 0.95])\n",
    "portfolio_perfomance_time.head()\n",
    "# Plot projected performance over time\n",
    "portfolio_perfomance_time.T.plot()"
   ]
  },
  {
   "cell_type": "code",
   "execution_count": 29,
   "metadata": {},
   "outputs": [],
   "source": [
    "# Bonus Problem. Set up widgets to accept Asset Mix (% in Stocks) and Initial Investment ($)\n",
    "import ipywidgets as widgets\n",
    "from matplotlib.widgets import Slider, Button, RadioButtons\n",
    "AssetMix=widgets.IntSlider(\n",
    "    min=50,\n",
    "    max=90,\n",
    "    step=5,\n",
    "    description='Asset Mix in SPY:',\n",
    "    value=3\n",
    ")\n",
    "InitialInv=widgets.IntSlider(\n",
    "    min=20000,\n",
    "    max=200000,\n",
    "    step=5000,\n",
    "    description='Initial Investment:',\n",
    "    value=5\n",
    ")\n"
   ]
  },
  {
   "cell_type": "code",
   "execution_count": 30,
   "metadata": {},
   "outputs": [],
   "source": [
    "# Function which accepts asset mix and initial investment as input and returns the withdrwal dollars which is Portfolio Value* Withdrawal Rate 4%. This is compared with Plaid output)\n",
    "def WidgetMonteCarlo(mix,investment):\n",
    "    portfolio_cumulative_returns_new = pd.DataFrame()\n",
    "    number_years_new=5\n",
    "    number_simulations=500\n",
    "    number_records_new=number_years_new*252\n",
    "    \n",
    "    for n in range(number_simulations):\n",
    "        simulated_agg_prices = [agg_last_closing]\n",
    "        simulated_spy_prices = [spy_last_closing]\n",
    "        \n",
    "        for i in range(number_records_new):\n",
    "            simulated_agg_price = simulated_agg_prices[-1] * (1 + np.random.normal(avg_return.loc[\"AGG\",\"1Yr Mean\"], OneYr_Vol.loc[\"AGG\",\"1Yr Vol\"]))\n",
    "            simulated_spy_price = simulated_spy_prices[-1] * (1 + np.random.normal(avg_return.loc[\"SPY\",\"1Yr Mean\"], OneYr_Vol.loc[\"SPY\",\"1Yr Vol\"]))\n",
    "        \n",
    "        # Append the simulated price to the list\n",
    "        simulated_agg_prices.append(simulated_agg_price)\n",
    "        simulated_spy_prices.append(simulated_spy_price)\n",
    "        monte_carlo[\"AGG prices\"] = pd.Series(simulated_agg_prices)\n",
    "        monte_carlo[\"SPY prices\"] = pd.Series(simulated_spy_prices)\n",
    "        \n",
    "        # Calculate the daily returns of simulated prices\n",
    "        simulated_daily_returns = monte_carlo.pct_change()\n",
    "        \n",
    "        # Set the portfolio weights (Passed as arguments; with function input being mix in stocks)\n",
    "        weights = [(100-mix)/100, mix/100]\n",
    "        portfolio_daily_returns = simulated_daily_returns.dot(weights)\n",
    "        portfolio_cumulative_returns_new[n] = (1 + portfolio_daily_returns.fillna(0)).cumprod()\n",
    "    TenPercentile=portfolio_cumulative_returns_new.iloc[-1,:].quantile(q=[.1])\n",
    "    TenPercentileDollars=float(TenPercentile.values*investment*WRate)\n",
    "    return(TenPercentileDollars)\n",
    " "
   ]
  },
  {
   "cell_type": "code",
   "execution_count": 34,
   "metadata": {},
   "outputs": [
    {
     "name": "stdout",
     "output_type": "stream",
     "text": [
      "All Calculations Expressed in the 10%ile to imply 90% success of meeting your goals\n",
      "Success: Asset Mix and Investent Sufficient\n",
      "With 60.00% in stocks and $ 175000.00 initial investment you meet target withdrawal rates\n",
      "You needed $6,085.00 but portfolio yielded $6,964.35\n"
     ]
    },
    {
     "data": {
      "text/plain": [
       "<Figure size 432x288 with 0 Axes>"
      ]
     },
     "metadata": {},
     "output_type": "display_data"
    },
    {
     "data": {
      "image/png": "[encoded data removed]",
      "text/plain": [
       "<Figure size 432x288 with 1 Axes>"
      ]
     },
     "metadata": {
      "needs_background": "light"
     },
     "output_type": "display_data"
    },
    {
     "data": {
      "text/plain": [
       "<Figure size 432x288 with 0 Axes>"
      ]
     },
     "metadata": {},
     "output_type": "display_data"
    }
   ],
   "source": [
    "# Module to define widgets and accept Asset Mix and Initial Investment as inputs\n",
    "from IPython.display import display, Markdown, clear_output\n",
    "display(InitialInv)\n",
    "display(AssetMix)\n",
    "print(\"Set Initial Investment and Asset Mix in Stocks\")\n",
    "def CallWidgetMonteCarlo(change):\n",
    "    clear_output()\n",
    "    print(\"All Calculations Expressed in the 10%ile to imply 90% success of meeting your goals\")\n",
    "    EstimatedWithDollars=WidgetMonteCarlo(change['new'],InitialInv.value)\n",
    "    if EstimatedWithDollars>=projected_yearly_income:\n",
    "        print(\"Success: Asset Mix and Investent Sufficient\")\n",
    "        print(f\"With {change['new']:,.2f}% in stocks and $ {InitialInv.value:.2f} initial investment you meet target withdrawal rates\")\n",
    "        print(f\"You needed ${projected_yearly_income:,.2f} but portfolio yielded ${EstimatedWithDollars:,.2f}\")\n",
    "    else:\n",
    "        print(f\"With {change['new']:,.2f}% in stocks and $ {InitialInv.value:.2f} initial investment you do not meet target withdrawal rates\")\n",
    "        print(f\"Your target withdrawal is ${projected_yearly_income:,.2f} but portfolio only yields ${EstimatedWithDollars:,.2f}\")\n",
    "        print(\"Increase initial investment or change asset mix\")\n",
    "              \n",
    "    fig, ax = plt.subplots()\n",
    "    Options = ('Portfolio 10%ile', 'Required Withdrawal')\n",
    "    y_pos = np.arange(len(Options))\n",
    "    performance = [EstimatedWithDollars,projected_yearly_income]\n",
    "    ax.barh(y_pos,performance,height=0.5,align='center')\n",
    "    ax.set_yticks(y_pos)\n",
    "    ax.set_yticklabels(Options)\n",
    "    ax.invert_yaxis()  # labels read top-to-bottom\n",
    "    ax.set_xlabel('Dollars')\n",
    "    ax.set_title('Pictorial Comparison')\n",
    "    plt.show()\n",
    "    plt.savefig(\"Withdrawal_Output.png\")         \n",
    "AssetMix.observe(CallWidgetMonteCarlo,names='value')"
   ]
  },
  {
   "cell_type": "code",
   "execution_count": null,
   "metadata": {},
   "outputs": [],
   "source": []
  }
 ],
 "metadata": {
  "kernelspec": {
   "display_name": "Python 3",
   "language": "python",
   "name": "python3"
  },
  "language_info": {
   "codemirror_mode": {
    "name": "ipython",
    "version": 3
   },
   "file_extension": ".py",
   "mimetype": "text/x-python",
   "name": "python",
   "nbconvert_exporter": "python",
   "pygments_lexer": "ipython3",
   "version": "3.7.4"
  }
 },
 "nbformat": 4,
 "nbformat_minor": 4
}
